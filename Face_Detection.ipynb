{
  "nbformat": 4,
  "nbformat_minor": 0,
  "metadata": {
    "colab": {
      "provenance": [],
      "authorship_tag": "ABX9TyPobHEuvWwsnHW+nmThKZKg",
      "include_colab_link": true
    },
    "kernelspec": {
      "name": "python3",
      "display_name": "Python 3"
    },
    "language_info": {
      "name": "python"
    }
  },
  "cells": [
    {
      "cell_type": "markdown",
      "metadata": {
        "id": "view-in-github",
        "colab_type": "text"
      },
      "source": [
        "<a href=\"https://colab.research.google.com/github/this-is-nisa/Face_Detection/blob/main/Face_Detection.ipynb\" target=\"_parent\"><img src=\"https://colab.research.google.com/assets/colab-badge.svg\" alt=\"Open In Colab\"/></a>"
      ]
    },
    {
      "cell_type": "markdown",
      "source": [
        "Face Detection algorithm using CV2 library"
      ],
      "metadata": {
        "id": "fLvhsS1ga3AI"
      }
    },
    {
      "cell_type": "code",
      "execution_count": 2,
      "metadata": {
        "id": "akorTt9lXiVv"
      },
      "outputs": [],
      "source": [
        "import os\n",
        "import cv2\n",
        "import sys\n",
        "from zipfile import ZipFile\n",
        "from urllib.request import urlretrieve"
      ]
    },
    {
      "cell_type": "code",
      "source": [
        "# function to download dropbox urls as a zip file and extract the zip file contents\n",
        "def download_and_unzip(url, save_path):\n",
        "    print(f\"Downloading and extracting assests....\", end=\"\")\n",
        "\n",
        "    # Downloading zip file using urllib package.\n",
        "    urlretrieve(url, save_path)\n",
        "\n",
        "    try:\n",
        "        # Extracting zip file using the zipfile package.\n",
        "        with ZipFile(save_path) as z:\n",
        "            # Extract ZIP file contents in the same directory.\n",
        "            z.extractall(os.path.split(save_path)[0])\n",
        "\n",
        "        print(\"Done\")\n",
        "\n",
        "    except Exception as e:\n",
        "        print(\"\\nInvalid file.\", e)"
      ],
      "metadata": {
        "id": "8CZQOl1551DQ"
      },
      "execution_count": 3,
      "outputs": []
    },
    {
      "cell_type": "code",
      "source": [
        "# get assets from OpenCV bootcamp for dnn model\n",
        "URL = r\"https://www.dropbox.com/s/efitgt363ada95a/opencv_bootcamp_assets_12.zip?dl=1\"\n",
        "asset_zip_path = os.path.join(os.getcwd(), f\"opencv_bootcamp_assets_12.zip\")\n",
        "\n",
        "# unzip URL\n",
        "if not os.path.exists(asset_zip_path):\n",
        "    download_and_unzip(URL, asset_zip_path)"
      ],
      "metadata": {
        "id": "SMm27WwOB2Ku"
      },
      "execution_count": 4,
      "outputs": []
    },
    {
      "cell_type": "code",
      "source": [
        "s = 0 # webcam index\n",
        "\n",
        "# switch to other camera if available\n",
        "if len(sys.argv) > 1:\n",
        "  s = sys.argv[1]\n",
        "\n",
        "window_name = \"Camera Preview\"\n",
        "cv2.namedWindow(window_name, cv2.WINDOW_NORMAL)\n",
        "\n",
        "net = cv2.dnn.readNetFromCaffe(\"deploy.prototxt\", \"res10_300x300_ssd_iter_140000_fp16.caffemodel\") # read dnn model\n",
        "\n",
        "#parameters for model:\n",
        "in_width = 300\n",
        "in_height = 300\n",
        "mean = [104, 117, 123]\n",
        "conf_threshold = 0.7\n",
        "\n",
        "\n"
      ],
      "metadata": {
        "id": "NnEqrWvqC8SM"
      },
      "execution_count": null,
      "outputs": []
    },
    {
      "cell_type": "code",
      "source": [
        "# loop for 27 ticks\n",
        "while cv2.waitKet(1) != 27:\n",
        "  has_frame, frame = course.read()\n",
        "  if not has_frame:\n",
        "    break\n",
        "  frame_height = frame.shape[0]\n",
        "  frame_width = frame.shape[1]\n",
        "\n",
        "# preprocess the frame by creating it into a 4D blob\n",
        "blob = cv2.dnn.blobFromImage(frame, 1.0, (in_width, in_height), mean, swapRB=False, crop=False)\n",
        "\n",
        "# run the DNN model\n",
        "net.setInput(blob)\n",
        "detections = net.forward()\n",
        "\n",
        "# annotate the video with rectangle around face and confidence score displayed\n",
        "for i in range (detections.shape(2)): # loop through each detection\n",
        "  confidence = detections[0, 0, i, 2]\n",
        "  if confidence > conf_threshold\n",
        "    # corner dimensions to create rectangle\n",
        "    x_left_botm = int(detections[0, 0, i, 3] * frame_width)\n",
        "    y_left_botm = int(detections[0, 0, i, 4] * frame_height)\n",
        "     x_right_top = int(detections[0, 0, i, 5] * frame_width)\n",
        "    y_right_top = int(detections[0, 0, i, 5] * frame_height)\n",
        "\n",
        "    # draw rectangle\n",
        "    cv2.rectangle(frame, (x_left_bottom, y_left_bottom), (x_right_top, y_right_top), (0, 255, 0))\n",
        "\n",
        "    # get text label of confidence score and size of what the text would be\n",
        "    label = \"Confidence: %.4f\" % confidence\n",
        "    label_size, base_line = cv2.getTextSize(label, cv2.FONT_HERSHEY_SIMPLEX, 0.5, 1)\n",
        "\n",
        "    # draw rectangle for background of text\n",
        "    cv2.rectangle(frame, (x_left_bottom, y_left_bottom - label_size[1]), (x_left_bottom + label_size[0], y_left_bottom + base_line), (255, 255, 255),cv2.FILLED,)\n",
        "\n",
        "    # draw text on rectangle\n",
        "    cv2.putText(frame, label, (x_left_bottom, y_left_bottom), cv2.FONT_HERSHEY_SIMPLEX, 0.5, (0, 0, 0))\n",
        "\n",
        "    t, _ = net.getPerfProfile()\n",
        "    label = \"Inference time: %.2f ms\" % (t * 1000.0 / cv2.getTickFrequency())\n",
        "    cv.putText(frame, label, (0, 15), cv2.FONT_HERSHEY_SIMPLEX, 0.5, (0, 255, 0))\n",
        "    cv2.imshow(window_name, frame)\n",
        "\n"
      ],
      "metadata": {
        "id": "FGSYyCV1GuuR"
      },
      "execution_count": null,
      "outputs": []
    },
    {
      "cell_type": "code",
      "source": [
        "source.release()\n",
        "cv2.destroyWindow(window_name)"
      ],
      "metadata": {
        "id": "AkV6Gs7FHBp3"
      },
      "execution_count": null,
      "outputs": []
    }
  ]
}